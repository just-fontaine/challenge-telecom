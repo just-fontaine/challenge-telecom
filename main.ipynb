{
 "cells": [
  {
   "cell_type": "markdown",
   "id": "cbf1ef7e",
   "metadata": {},
   "source": [
    "#### Dicionário de dados\n",
    "\n",
    "* `customerID`: número de identificação único de cada cliente\n",
    "* `Churn`: se o cliente deixou ou não a empresa \n",
    "* `gender`: gênero (masculino e feminino) \n",
    "* `SeniorCitizen`: informação sobre um cliente ter ou não idade igual ou maior que 65 anos \n",
    "* `Partner`:  se o cliente possui ou não um parceiro ou parceira\n",
    "* `Dependents`: se o cliente possui ou não dependentes\n",
    "* `tenure`:  meses de contrato do cliente\n",
    "* `PhoneService`: assinatura de serviço telefônico \n",
    "* `MultipleLines`: assisnatura de mais de uma linha de telefone \n",
    "* `InternetService`: assinatura de um provedor internet \n",
    "* `OnlineSecurity`: assinatura adicional de segurança online \n",
    "* `OnlineBackup`: assinatura adicional de backup online \n",
    "* `DeviceProtection`: assinatura adicional de proteção no dispositivo \n",
    "* `TechSupport`: assinatura adicional de suporte técnico, menos tempo de espera\n",
    "* `StreamingTV`: assinatura de TV a cabo \n",
    "* `StreamingMovies`: assinatura de streaming de filmes \n",
    "* `Contract`: tipo de contrato\n",
    "* `PaperlessBilling`: se o cliente prefere receber online a fatura\n",
    "* `PaymentMethod`: forma de pagamento\n",
    "* `Charges.Monthly`: total de todos os serviços do cliente por mês\n",
    "* `Charges.Total`: total gasto pelo cliente"
   ]
  },
  {
   "cell_type": "markdown",
   "id": "289c1f00",
   "metadata": {},
   "source": [
    "<h3>Importação das bibliotecas</h3>"
   ]
  },
  {
   "cell_type": "code",
   "execution_count": 39,
   "id": "908d60e6",
   "metadata": {},
   "outputs": [],
   "source": [
    "import pandas as pd\n",
    "import requests\n",
    "import numpy as np\n",
    "import matplotlib.pyplot as plt"
   ]
  },
  {
   "cell_type": "markdown",
   "id": "af5129df",
   "metadata": {},
   "source": [
    "<h3>Importação dos dados (Extract)</h3>"
   ]
  },
  {
   "cell_type": "code",
   "execution_count": 2,
   "id": "4fe0d368",
   "metadata": {},
   "outputs": [],
   "source": [
    "response = requests.get(\n",
    "    url=r'https://raw.githubusercontent.com/ingridcristh/challenge2-data-science/refs/heads/main/TelecomX_Data.json'\n",
    ")\n",
    "\n",
    "dados_json = response.json()"
   ]
  },
  {
   "cell_type": "code",
   "execution_count": 3,
   "id": "54dafc6c",
   "metadata": {},
   "outputs": [],
   "source": [
    "json_original = pd.DataFrame(dados_json) # Conversão para dataframe"
   ]
  },
  {
   "cell_type": "markdown",
   "id": "63168326",
   "metadata": {},
   "source": [
    "<h3>Normalização separada de cada coluna</h3>"
   ]
  },
  {
   "cell_type": "code",
   "execution_count": 4,
   "id": "afd94078",
   "metadata": {},
   "outputs": [],
   "source": [
    "customer = pd.json_normalize(\n",
    "    json_original[\n",
    "        'customer'\n",
    "    ]\n",
    ")\n",
    "\n",
    "phone = pd.json_normalize(\n",
    "    json_original[\n",
    "        'phone'\n",
    "    ]\n",
    ")\n",
    "\n",
    "internet = pd.json_normalize(\n",
    "    json_original[\n",
    "        'internet'\n",
    "    ]\n",
    ")\n",
    "\n",
    "account = pd.json_normalize(\n",
    "    json_original[\n",
    "        'account'\n",
    "    ]\n",
    ")"
   ]
  },
  {
   "cell_type": "markdown",
   "id": "ebcbca8a",
   "metadata": {},
   "source": [
    "<h3>Junção de todas as colunas</h3>"
   ]
  },
  {
   "cell_type": "code",
   "execution_count": 5,
   "id": "fec00432",
   "metadata": {},
   "outputs": [],
   "source": [
    "df_original = pd.concat([\n",
    "    json_original[['customerID', 'Churn']],\n",
    "    customer, phone, internet, account\n",
    "], axis=1)"
   ]
  },
  {
   "cell_type": "code",
   "execution_count": 6,
   "id": "12d29a6e",
   "metadata": {},
   "outputs": [],
   "source": [
    "# df_final.T"
   ]
  },
  {
   "cell_type": "markdown",
   "id": "77547a53",
   "metadata": {},
   "source": [
    "<h3>Análise exploratória (Transform)</h3>"
   ]
  },
  {
   "cell_type": "code",
   "execution_count": 7,
   "id": "14ced295",
   "metadata": {},
   "outputs": [],
   "source": [
    "# df_final.columns"
   ]
  },
  {
   "cell_type": "code",
   "execution_count": 8,
   "id": "f6fc9acd",
   "metadata": {},
   "outputs": [
    {
     "data": {
      "text/plain": [
       "customerID           object\n",
       "Churn                object\n",
       "gender               object\n",
       "SeniorCitizen         int64\n",
       "Partner              object\n",
       "Dependents           object\n",
       "tenure                int64\n",
       "PhoneService         object\n",
       "MultipleLines        object\n",
       "InternetService      object\n",
       "OnlineSecurity       object\n",
       "OnlineBackup         object\n",
       "DeviceProtection     object\n",
       "TechSupport          object\n",
       "StreamingTV          object\n",
       "StreamingMovies      object\n",
       "Contract             object\n",
       "PaperlessBilling     object\n",
       "PaymentMethod        object\n",
       "Charges.Monthly     float64\n",
       "Charges.Total        object\n",
       "dtype: object"
      ]
     },
     "execution_count": 8,
     "metadata": {},
     "output_type": "execute_result"
    }
   ],
   "source": [
    "df_original.dtypes # Obs: Charges.Total deveria ser float"
   ]
  },
  {
   "cell_type": "code",
   "execution_count": 9,
   "id": "c6e9a80d",
   "metadata": {},
   "outputs": [],
   "source": [
    "df_original['Charges.Total'] = df_original['Charges.Total'].map(lambda x: x.strip())\n",
    "df_original['Charges.Total'] = df_original['Charges.Total'].map(lambda x: np.nan if x == '' else x)"
   ]
  },
  {
   "cell_type": "code",
   "execution_count": 10,
   "id": "9fdcacf3",
   "metadata": {},
   "outputs": [],
   "source": [
    "df_original['Charges.Total'] = df_original['Charges.Total'].astype(float)"
   ]
  },
  {
   "cell_type": "code",
   "execution_count": 11,
   "id": "1297dc91",
   "metadata": {},
   "outputs": [
    {
     "data": {
      "text/plain": [
       "dtype('float64')"
      ]
     },
     "execution_count": 11,
     "metadata": {},
     "output_type": "execute_result"
    }
   ],
   "source": [
    "df_original['Charges.Total'].dtype # Tipo correto agora"
   ]
  },
  {
   "cell_type": "markdown",
   "id": "27f8ae36",
   "metadata": {},
   "source": [
    "##### Variáveis de interesse\n",
    "\n",
    "* `Churn`\n",
    "* `gender`\n",
    "* `SeniorCitizen`\n",
    "* `Partner`\n",
    "* `Dependents`\n",
    "* `tenure`\n",
    "* `PhoneService`\n",
    "* `MultipleLines`\n",
    "* `InternetService`\n",
    "* `OnlineSecurity`\n",
    "* `OnlineBackup`\n",
    "* `DeviceProtection`\n",
    "* `TechSupport`\n",
    "* `StreamingTV`\n",
    "* `StreamingMovies`\n",
    "* `Contract`\n",
    "* `PaperlessBilling`\n",
    "* `PaymentMethod`\n",
    "* `Charges.Monthly`"
   ]
  },
  {
   "cell_type": "code",
   "execution_count": 12,
   "id": "bc8f8610",
   "metadata": {},
   "outputs": [
    {
     "data": {
      "text/plain": [
       "(7267, 21)"
      ]
     },
     "execution_count": 12,
     "metadata": {},
     "output_type": "execute_result"
    }
   ],
   "source": [
    "df_original.shape"
   ]
  },
  {
   "cell_type": "code",
   "execution_count": 13,
   "id": "aa341b80",
   "metadata": {},
   "outputs": [
    {
     "data": {
      "text/html": [
       "<div>\n",
       "<style scoped>\n",
       "    .dataframe tbody tr th:only-of-type {\n",
       "        vertical-align: middle;\n",
       "    }\n",
       "\n",
       "    .dataframe tbody tr th {\n",
       "        vertical-align: top;\n",
       "    }\n",
       "\n",
       "    .dataframe thead th {\n",
       "        text-align: right;\n",
       "    }\n",
       "</style>\n",
       "<table border=\"1\" class=\"dataframe\">\n",
       "  <thead>\n",
       "    <tr style=\"text-align: right;\">\n",
       "      <th></th>\n",
       "      <th>customerID</th>\n",
       "      <th>Churn</th>\n",
       "      <th>gender</th>\n",
       "      <th>SeniorCitizen</th>\n",
       "      <th>Partner</th>\n",
       "      <th>Dependents</th>\n",
       "      <th>tenure</th>\n",
       "      <th>PhoneService</th>\n",
       "      <th>MultipleLines</th>\n",
       "      <th>InternetService</th>\n",
       "      <th>...</th>\n",
       "      <th>OnlineBackup</th>\n",
       "      <th>DeviceProtection</th>\n",
       "      <th>TechSupport</th>\n",
       "      <th>StreamingTV</th>\n",
       "      <th>StreamingMovies</th>\n",
       "      <th>Contract</th>\n",
       "      <th>PaperlessBilling</th>\n",
       "      <th>PaymentMethod</th>\n",
       "      <th>Charges.Monthly</th>\n",
       "      <th>Charges.Total</th>\n",
       "    </tr>\n",
       "  </thead>\n",
       "  <tbody>\n",
       "    <tr>\n",
       "      <th>0</th>\n",
       "      <td>0002-ORFBO</td>\n",
       "      <td>No</td>\n",
       "      <td>Female</td>\n",
       "      <td>0</td>\n",
       "      <td>Yes</td>\n",
       "      <td>Yes</td>\n",
       "      <td>9</td>\n",
       "      <td>Yes</td>\n",
       "      <td>No</td>\n",
       "      <td>DSL</td>\n",
       "      <td>...</td>\n",
       "      <td>Yes</td>\n",
       "      <td>No</td>\n",
       "      <td>Yes</td>\n",
       "      <td>Yes</td>\n",
       "      <td>No</td>\n",
       "      <td>One year</td>\n",
       "      <td>Yes</td>\n",
       "      <td>Mailed check</td>\n",
       "      <td>65.6</td>\n",
       "      <td>593.3</td>\n",
       "    </tr>\n",
       "    <tr>\n",
       "      <th>1</th>\n",
       "      <td>0003-MKNFE</td>\n",
       "      <td>No</td>\n",
       "      <td>Male</td>\n",
       "      <td>0</td>\n",
       "      <td>No</td>\n",
       "      <td>No</td>\n",
       "      <td>9</td>\n",
       "      <td>Yes</td>\n",
       "      <td>Yes</td>\n",
       "      <td>DSL</td>\n",
       "      <td>...</td>\n",
       "      <td>No</td>\n",
       "      <td>No</td>\n",
       "      <td>No</td>\n",
       "      <td>No</td>\n",
       "      <td>Yes</td>\n",
       "      <td>Month-to-month</td>\n",
       "      <td>No</td>\n",
       "      <td>Mailed check</td>\n",
       "      <td>59.9</td>\n",
       "      <td>542.4</td>\n",
       "    </tr>\n",
       "  </tbody>\n",
       "</table>\n",
       "<p>2 rows × 21 columns</p>\n",
       "</div>"
      ],
      "text/plain": [
       "   customerID Churn  gender  SeniorCitizen Partner Dependents  tenure  \\\n",
       "0  0002-ORFBO    No  Female              0     Yes        Yes       9   \n",
       "1  0003-MKNFE    No    Male              0      No         No       9   \n",
       "\n",
       "  PhoneService MultipleLines InternetService  ... OnlineBackup  \\\n",
       "0          Yes            No             DSL  ...          Yes   \n",
       "1          Yes           Yes             DSL  ...           No   \n",
       "\n",
       "  DeviceProtection TechSupport StreamingTV StreamingMovies        Contract  \\\n",
       "0               No         Yes         Yes              No        One year   \n",
       "1               No          No          No             Yes  Month-to-month   \n",
       "\n",
       "  PaperlessBilling PaymentMethod Charges.Monthly  Charges.Total  \n",
       "0              Yes  Mailed check            65.6          593.3  \n",
       "1               No  Mailed check            59.9          542.4  \n",
       "\n",
       "[2 rows x 21 columns]"
      ]
     },
     "execution_count": 13,
     "metadata": {},
     "output_type": "execute_result"
    }
   ],
   "source": [
    "df_original.head(2)"
   ]
  },
  {
   "cell_type": "code",
   "execution_count": 14,
   "id": "3d076f94",
   "metadata": {},
   "outputs": [
    {
     "data": {
      "text/html": [
       "<div>\n",
       "<style scoped>\n",
       "    .dataframe tbody tr th:only-of-type {\n",
       "        vertical-align: middle;\n",
       "    }\n",
       "\n",
       "    .dataframe tbody tr th {\n",
       "        vertical-align: top;\n",
       "    }\n",
       "\n",
       "    .dataframe thead th {\n",
       "        text-align: right;\n",
       "    }\n",
       "</style>\n",
       "<table border=\"1\" class=\"dataframe\">\n",
       "  <thead>\n",
       "    <tr style=\"text-align: right;\">\n",
       "      <th></th>\n",
       "      <th>customerID</th>\n",
       "      <th>Churn</th>\n",
       "      <th>gender</th>\n",
       "      <th>SeniorCitizen</th>\n",
       "      <th>Partner</th>\n",
       "      <th>Dependents</th>\n",
       "      <th>tenure</th>\n",
       "      <th>PhoneService</th>\n",
       "      <th>MultipleLines</th>\n",
       "      <th>InternetService</th>\n",
       "      <th>...</th>\n",
       "      <th>OnlineBackup</th>\n",
       "      <th>DeviceProtection</th>\n",
       "      <th>TechSupport</th>\n",
       "      <th>StreamingTV</th>\n",
       "      <th>StreamingMovies</th>\n",
       "      <th>Contract</th>\n",
       "      <th>PaperlessBilling</th>\n",
       "      <th>PaymentMethod</th>\n",
       "      <th>Charges.Monthly</th>\n",
       "      <th>Charges.Total</th>\n",
       "    </tr>\n",
       "  </thead>\n",
       "  <tbody>\n",
       "    <tr>\n",
       "      <th>7265</th>\n",
       "      <td>9993-LHIEB</td>\n",
       "      <td>No</td>\n",
       "      <td>Male</td>\n",
       "      <td>0</td>\n",
       "      <td>Yes</td>\n",
       "      <td>Yes</td>\n",
       "      <td>67</td>\n",
       "      <td>Yes</td>\n",
       "      <td>No</td>\n",
       "      <td>DSL</td>\n",
       "      <td>...</td>\n",
       "      <td>No</td>\n",
       "      <td>Yes</td>\n",
       "      <td>Yes</td>\n",
       "      <td>No</td>\n",
       "      <td>Yes</td>\n",
       "      <td>Two year</td>\n",
       "      <td>No</td>\n",
       "      <td>Mailed check</td>\n",
       "      <td>67.85</td>\n",
       "      <td>4627.65</td>\n",
       "    </tr>\n",
       "    <tr>\n",
       "      <th>7266</th>\n",
       "      <td>9995-HOTOH</td>\n",
       "      <td>No</td>\n",
       "      <td>Male</td>\n",
       "      <td>0</td>\n",
       "      <td>Yes</td>\n",
       "      <td>Yes</td>\n",
       "      <td>63</td>\n",
       "      <td>No</td>\n",
       "      <td>No phone service</td>\n",
       "      <td>DSL</td>\n",
       "      <td>...</td>\n",
       "      <td>Yes</td>\n",
       "      <td>Yes</td>\n",
       "      <td>No</td>\n",
       "      <td>Yes</td>\n",
       "      <td>Yes</td>\n",
       "      <td>Two year</td>\n",
       "      <td>No</td>\n",
       "      <td>Electronic check</td>\n",
       "      <td>59.00</td>\n",
       "      <td>3707.60</td>\n",
       "    </tr>\n",
       "  </tbody>\n",
       "</table>\n",
       "<p>2 rows × 21 columns</p>\n",
       "</div>"
      ],
      "text/plain": [
       "      customerID Churn gender  SeniorCitizen Partner Dependents  tenure  \\\n",
       "7265  9993-LHIEB    No   Male              0     Yes        Yes      67   \n",
       "7266  9995-HOTOH    No   Male              0     Yes        Yes      63   \n",
       "\n",
       "     PhoneService     MultipleLines InternetService  ... OnlineBackup  \\\n",
       "7265          Yes                No             DSL  ...           No   \n",
       "7266           No  No phone service             DSL  ...          Yes   \n",
       "\n",
       "     DeviceProtection TechSupport StreamingTV StreamingMovies  Contract  \\\n",
       "7265              Yes         Yes          No             Yes  Two year   \n",
       "7266              Yes          No         Yes             Yes  Two year   \n",
       "\n",
       "     PaperlessBilling     PaymentMethod Charges.Monthly  Charges.Total  \n",
       "7265               No      Mailed check           67.85        4627.65  \n",
       "7266               No  Electronic check           59.00        3707.60  \n",
       "\n",
       "[2 rows x 21 columns]"
      ]
     },
     "execution_count": 14,
     "metadata": {},
     "output_type": "execute_result"
    }
   ],
   "source": [
    "df_original.tail(2)"
   ]
  },
  {
   "cell_type": "code",
   "execution_count": 15,
   "id": "2dfcf2f4",
   "metadata": {},
   "outputs": [
    {
     "data": {
      "text/plain": [
       "customerID          7267\n",
       "Churn                  3\n",
       "gender                 2\n",
       "SeniorCitizen          2\n",
       "Partner                2\n",
       "Dependents             2\n",
       "tenure                73\n",
       "PhoneService           2\n",
       "MultipleLines          3\n",
       "InternetService        3\n",
       "OnlineSecurity         3\n",
       "OnlineBackup           3\n",
       "DeviceProtection       3\n",
       "TechSupport            3\n",
       "StreamingTV            3\n",
       "StreamingMovies        3\n",
       "Contract               3\n",
       "PaperlessBilling       2\n",
       "PaymentMethod          4\n",
       "Charges.Monthly     1585\n",
       "Charges.Total       6530\n",
       "dtype: int64"
      ]
     },
     "execution_count": 15,
     "metadata": {},
     "output_type": "execute_result"
    }
   ],
   "source": [
    "df_original.nunique()"
   ]
  },
  {
   "cell_type": "code",
   "execution_count": 16,
   "id": "07ff6154",
   "metadata": {},
   "outputs": [
    {
     "data": {
      "text/plain": [
       "np.int64(0)"
      ]
     },
     "execution_count": 16,
     "metadata": {},
     "output_type": "execute_result"
    }
   ],
   "source": [
    "df_original['customerID'].duplicated().sum() # Nenhum cliente duplicado"
   ]
  },
  {
   "cell_type": "code",
   "execution_count": 17,
   "id": "f0cb2823",
   "metadata": {},
   "outputs": [
    {
     "data": {
      "text/plain": [
       "np.int64(0)"
      ]
     },
     "execution_count": 17,
     "metadata": {},
     "output_type": "execute_result"
    }
   ],
   "source": [
    "df_original['customerID'].isnull().sum()"
   ]
  },
  {
   "cell_type": "code",
   "execution_count": 18,
   "id": "a9e4372d",
   "metadata": {},
   "outputs": [
    {
     "data": {
      "text/plain": [
       "array(['No', 'Yes', ''], dtype=object)"
      ]
     },
     "execution_count": 18,
     "metadata": {},
     "output_type": "execute_result"
    }
   ],
   "source": [
    "df_original['Churn'].unique()"
   ]
  },
  {
   "cell_type": "code",
   "execution_count": 19,
   "id": "e9330523",
   "metadata": {},
   "outputs": [
    {
     "data": {
      "text/html": [
       "<div>\n",
       "<style scoped>\n",
       "    .dataframe tbody tr th:only-of-type {\n",
       "        vertical-align: middle;\n",
       "    }\n",
       "\n",
       "    .dataframe tbody tr th {\n",
       "        vertical-align: top;\n",
       "    }\n",
       "\n",
       "    .dataframe thead th {\n",
       "        text-align: right;\n",
       "    }\n",
       "</style>\n",
       "<table border=\"1\" class=\"dataframe\">\n",
       "  <thead>\n",
       "    <tr style=\"text-align: right;\">\n",
       "      <th></th>\n",
       "      <th>customerID</th>\n",
       "      <th>Churn</th>\n",
       "      <th>gender</th>\n",
       "      <th>SeniorCitizen</th>\n",
       "      <th>Partner</th>\n",
       "      <th>Dependents</th>\n",
       "      <th>tenure</th>\n",
       "      <th>PhoneService</th>\n",
       "      <th>MultipleLines</th>\n",
       "      <th>InternetService</th>\n",
       "      <th>...</th>\n",
       "      <th>OnlineBackup</th>\n",
       "      <th>DeviceProtection</th>\n",
       "      <th>TechSupport</th>\n",
       "      <th>StreamingTV</th>\n",
       "      <th>StreamingMovies</th>\n",
       "      <th>Contract</th>\n",
       "      <th>PaperlessBilling</th>\n",
       "      <th>PaymentMethod</th>\n",
       "      <th>Charges.Monthly</th>\n",
       "      <th>Charges.Total</th>\n",
       "    </tr>\n",
       "  </thead>\n",
       "  <tbody>\n",
       "    <tr>\n",
       "      <th>30</th>\n",
       "      <td>0047-ZHDTW</td>\n",
       "      <td></td>\n",
       "      <td>Female</td>\n",
       "      <td>0</td>\n",
       "      <td>No</td>\n",
       "      <td>No</td>\n",
       "      <td>11</td>\n",
       "      <td>Yes</td>\n",
       "      <td>Yes</td>\n",
       "      <td>Fiber optic</td>\n",
       "      <td>...</td>\n",
       "      <td>No</td>\n",
       "      <td>No</td>\n",
       "      <td>No</td>\n",
       "      <td>No</td>\n",
       "      <td>No</td>\n",
       "      <td>Month-to-month</td>\n",
       "      <td>Yes</td>\n",
       "      <td>Bank transfer (automatic)</td>\n",
       "      <td>79.00</td>\n",
       "      <td>929.30</td>\n",
       "    </tr>\n",
       "    <tr>\n",
       "      <th>75</th>\n",
       "      <td>0120-YZLQA</td>\n",
       "      <td></td>\n",
       "      <td>Male</td>\n",
       "      <td>0</td>\n",
       "      <td>No</td>\n",
       "      <td>No</td>\n",
       "      <td>71</td>\n",
       "      <td>Yes</td>\n",
       "      <td>No</td>\n",
       "      <td>No</td>\n",
       "      <td>...</td>\n",
       "      <td>No internet service</td>\n",
       "      <td>No internet service</td>\n",
       "      <td>No internet service</td>\n",
       "      <td>No internet service</td>\n",
       "      <td>No internet service</td>\n",
       "      <td>Two year</td>\n",
       "      <td>Yes</td>\n",
       "      <td>Credit card (automatic)</td>\n",
       "      <td>19.90</td>\n",
       "      <td>1355.10</td>\n",
       "    </tr>\n",
       "    <tr>\n",
       "      <th>96</th>\n",
       "      <td>0154-QYHJU</td>\n",
       "      <td></td>\n",
       "      <td>Male</td>\n",
       "      <td>0</td>\n",
       "      <td>No</td>\n",
       "      <td>No</td>\n",
       "      <td>29</td>\n",
       "      <td>Yes</td>\n",
       "      <td>No</td>\n",
       "      <td>DSL</td>\n",
       "      <td>...</td>\n",
       "      <td>Yes</td>\n",
       "      <td>No</td>\n",
       "      <td>Yes</td>\n",
       "      <td>No</td>\n",
       "      <td>No</td>\n",
       "      <td>One year</td>\n",
       "      <td>Yes</td>\n",
       "      <td>Electronic check</td>\n",
       "      <td>58.75</td>\n",
       "      <td>1696.20</td>\n",
       "    </tr>\n",
       "    <tr>\n",
       "      <th>98</th>\n",
       "      <td>0162-RZGMZ</td>\n",
       "      <td></td>\n",
       "      <td>Female</td>\n",
       "      <td>1</td>\n",
       "      <td>No</td>\n",
       "      <td>No</td>\n",
       "      <td>5</td>\n",
       "      <td>Yes</td>\n",
       "      <td>No</td>\n",
       "      <td>DSL</td>\n",
       "      <td>...</td>\n",
       "      <td>Yes</td>\n",
       "      <td>No</td>\n",
       "      <td>Yes</td>\n",
       "      <td>No</td>\n",
       "      <td>No</td>\n",
       "      <td>Month-to-month</td>\n",
       "      <td>No</td>\n",
       "      <td>Credit card (automatic)</td>\n",
       "      <td>59.90</td>\n",
       "      <td>287.85</td>\n",
       "    </tr>\n",
       "    <tr>\n",
       "      <th>175</th>\n",
       "      <td>0274-VVQOQ</td>\n",
       "      <td></td>\n",
       "      <td>Male</td>\n",
       "      <td>1</td>\n",
       "      <td>Yes</td>\n",
       "      <td>No</td>\n",
       "      <td>65</td>\n",
       "      <td>Yes</td>\n",
       "      <td>Yes</td>\n",
       "      <td>Fiber optic</td>\n",
       "      <td>...</td>\n",
       "      <td>Yes</td>\n",
       "      <td>Yes</td>\n",
       "      <td>No</td>\n",
       "      <td>Yes</td>\n",
       "      <td>Yes</td>\n",
       "      <td>One year</td>\n",
       "      <td>Yes</td>\n",
       "      <td>Bank transfer (automatic)</td>\n",
       "      <td>103.15</td>\n",
       "      <td>6792.45</td>\n",
       "    </tr>\n",
       "  </tbody>\n",
       "</table>\n",
       "<p>5 rows × 21 columns</p>\n",
       "</div>"
      ],
      "text/plain": [
       "     customerID Churn  gender  SeniorCitizen Partner Dependents  tenure  \\\n",
       "30   0047-ZHDTW        Female              0      No         No      11   \n",
       "75   0120-YZLQA          Male              0      No         No      71   \n",
       "96   0154-QYHJU          Male              0      No         No      29   \n",
       "98   0162-RZGMZ        Female              1      No         No       5   \n",
       "175  0274-VVQOQ          Male              1     Yes         No      65   \n",
       "\n",
       "    PhoneService MultipleLines InternetService  ...         OnlineBackup  \\\n",
       "30           Yes           Yes     Fiber optic  ...                   No   \n",
       "75           Yes            No              No  ...  No internet service   \n",
       "96           Yes            No             DSL  ...                  Yes   \n",
       "98           Yes            No             DSL  ...                  Yes   \n",
       "175          Yes           Yes     Fiber optic  ...                  Yes   \n",
       "\n",
       "        DeviceProtection          TechSupport          StreamingTV  \\\n",
       "30                    No                   No                   No   \n",
       "75   No internet service  No internet service  No internet service   \n",
       "96                    No                  Yes                   No   \n",
       "98                    No                  Yes                   No   \n",
       "175                  Yes                   No                  Yes   \n",
       "\n",
       "         StreamingMovies        Contract PaperlessBilling  \\\n",
       "30                    No  Month-to-month              Yes   \n",
       "75   No internet service        Two year              Yes   \n",
       "96                    No        One year              Yes   \n",
       "98                    No  Month-to-month               No   \n",
       "175                  Yes        One year              Yes   \n",
       "\n",
       "                 PaymentMethod Charges.Monthly  Charges.Total  \n",
       "30   Bank transfer (automatic)           79.00         929.30  \n",
       "75     Credit card (automatic)           19.90        1355.10  \n",
       "96            Electronic check           58.75        1696.20  \n",
       "98     Credit card (automatic)           59.90         287.85  \n",
       "175  Bank transfer (automatic)          103.15        6792.45  \n",
       "\n",
       "[5 rows x 21 columns]"
      ]
     },
     "execution_count": 19,
     "metadata": {},
     "output_type": "execute_result"
    }
   ],
   "source": [
    "df_original[df_original['Churn'] == ''].head()"
   ]
  },
  {
   "cell_type": "code",
   "execution_count": 20,
   "id": "1a8a588c",
   "metadata": {},
   "outputs": [
    {
     "name": "stdout",
     "output_type": "stream",
     "text": [
      "3.08%\n"
     ]
    }
   ],
   "source": [
    "# Verificando a porcentagem de 'Churn' nulos.\n",
    "\n",
    "print(\n",
    "    f'{round(df_original[df_original['Churn'] == ''].shape[0] / df_original.shape[0] * 100, 2)}%'\n",
    ")"
   ]
  },
  {
   "cell_type": "code",
   "execution_count": 21,
   "id": "453dd632",
   "metadata": {},
   "outputs": [],
   "source": [
    "df_final = df_original[df_original['Churn'] != '']\n",
    "# df_original.nunique()"
   ]
  },
  {
   "cell_type": "code",
   "execution_count": 22,
   "id": "8d72b8b5",
   "metadata": {},
   "outputs": [],
   "source": [
    "df_final = df_final.dropna(subset=['Charges.Total'])"
   ]
  },
  {
   "cell_type": "code",
   "execution_count": 23,
   "id": "7eb95919",
   "metadata": {},
   "outputs": [
    {
     "data": {
      "text/plain": [
       "dtype('float64')"
      ]
     },
     "execution_count": 23,
     "metadata": {},
     "output_type": "execute_result"
    }
   ],
   "source": [
    "# Criação da coluna 'Charges.Diary'\n",
    "\n",
    "df_final['Charges.Diary'] = (df_final['Charges.Monthly'] / 30).round(2)\n",
    "\n",
    "df_final['Charges.Diary'].dtype"
   ]
  },
  {
   "cell_type": "code",
   "execution_count": 24,
   "id": "e54fc0de",
   "metadata": {},
   "outputs": [],
   "source": [
    "# df_final.head()"
   ]
  },
  {
   "cell_type": "markdown",
   "id": "f9b50111",
   "metadata": {},
   "source": [
    "<h3>Padronização do dataframe</h3>"
   ]
  },
  {
   "cell_type": "code",
   "execution_count": 25,
   "id": "c963a6ea",
   "metadata": {},
   "outputs": [],
   "source": [
    "df_padronizado = df_final.copy(deep=True)"
   ]
  },
  {
   "cell_type": "code",
   "execution_count": 26,
   "id": "2e82c15d",
   "metadata": {},
   "outputs": [],
   "source": [
    "cols = [\n",
    "    'Churn',\n",
    "    'gender',\n",
    "    'Partner',\n",
    "    'Dependents',\n",
    "    'PhoneService',\n",
    "    'MultipleLines',\n",
    "    'OnlineSecurity',\n",
    "    'OnlineBackup',\n",
    "    'DeviceProtection',\n",
    "    'TechSupport',\n",
    "    'StreamingTV',\n",
    "    'StreamingMovies',\n",
    "    'Contract',\n",
    "    'PaperlessBilling',\n",
    "    'PaymentMethod'\n",
    "]"
   ]
  },
  {
   "cell_type": "code",
   "execution_count": 27,
   "id": "ee146fe8",
   "metadata": {},
   "outputs": [
    {
     "name": "stdout",
     "output_type": "stream",
     "text": [
      "Churn: ['No' 'Yes']\n",
      "gender: ['Female' 'Male']\n",
      "Partner: ['Yes' 'No']\n",
      "Dependents: ['Yes' 'No']\n",
      "PhoneService: ['Yes' 'No']\n",
      "MultipleLines: ['No' 'Yes' 'No phone service']\n",
      "OnlineSecurity: ['No' 'Yes' 'No internet service']\n",
      "OnlineBackup: ['Yes' 'No' 'No internet service']\n",
      "DeviceProtection: ['No' 'Yes' 'No internet service']\n",
      "TechSupport: ['Yes' 'No' 'No internet service']\n",
      "StreamingTV: ['Yes' 'No' 'No internet service']\n",
      "StreamingMovies: ['No' 'Yes' 'No internet service']\n",
      "Contract: ['One year' 'Month-to-month' 'Two year']\n",
      "PaperlessBilling: ['Yes' 'No']\n",
      "PaymentMethod: ['Mailed check' 'Electronic check' 'Credit card (automatic)'\n",
      " 'Bank transfer (automatic)']\n"
     ]
    }
   ],
   "source": [
    "for col in cols:\n",
    "    print(f'{col}: {df_padronizado[col].unique()}')"
   ]
  },
  {
   "cell_type": "code",
   "execution_count": 28,
   "id": "babbac10",
   "metadata": {},
   "outputs": [],
   "source": [
    "pd.set_option('future.no_silent_downcasting', True)\n",
    "\n",
    "cols_binarias = [\n",
    "    'Churn',\n",
    "    'gender',\n",
    "    'Partner',\n",
    "    'Dependents',\n",
    "    'PhoneService',\n",
    "    'PaperlessBilling'\n",
    "]\n",
    "\n",
    "df_padronizado[cols_binarias] = df_padronizado[cols_binarias].replace(\n",
    "    {\n",
    "        'Yes': 1,\n",
    "        'No': 0,\n",
    "        'Female': 1,\n",
    "        'Male': 0\n",
    "    }\n",
    ").astype(int)"
   ]
  },
  {
   "cell_type": "code",
   "execution_count": 29,
   "id": "d9a35d77",
   "metadata": {},
   "outputs": [],
   "source": [
    "cols_trinarias = [\n",
    "    'MultipleLines',\n",
    "    'OnlineSecurity',\n",
    "    'OnlineBackup',\n",
    "    'DeviceProtection',\n",
    "    'TechSupport',\n",
    "    'StreamingTV',\n",
    "    'StreamingMovies'\n",
    "]\n",
    "\n",
    "df_padronizado[cols_trinarias] = df_padronizado[cols_trinarias].replace(\n",
    "    {\n",
    "        'No phone service': 'No',\n",
    "        'No internet service': 'No'\n",
    "    }\n",
    ")\n",
    "\n",
    "df_padronizado[cols_trinarias] = df_padronizado[cols_trinarias].replace(\n",
    "    {\n",
    "        'Yes': 1,\n",
    "        'No': 0\n",
    "    }\n",
    ")"
   ]
  },
  {
   "cell_type": "code",
   "execution_count": 30,
   "id": "01c6e0ef",
   "metadata": {},
   "outputs": [],
   "source": [
    "# df_padronizado"
   ]
  },
  {
   "cell_type": "code",
   "execution_count": 31,
   "id": "575d3d67",
   "metadata": {},
   "outputs": [
    {
     "data": {
      "text/plain": [
       "array(['One year', 'Month-to-month', 'Two year'], dtype=object)"
      ]
     },
     "execution_count": 31,
     "metadata": {},
     "output_type": "execute_result"
    }
   ],
   "source": [
    "df_padronizado['Contract'].unique()"
   ]
  },
  {
   "cell_type": "code",
   "execution_count": 32,
   "id": "8532e11b",
   "metadata": {},
   "outputs": [
    {
     "data": {
      "text/plain": [
       "array(['Mailed check', 'Electronic check', 'Credit card (automatic)',\n",
       "       'Bank transfer (automatic)'], dtype=object)"
      ]
     },
     "execution_count": 32,
     "metadata": {},
     "output_type": "execute_result"
    }
   ],
   "source": [
    "df_padronizado['PaymentMethod'].unique()"
   ]
  },
  {
   "cell_type": "code",
   "execution_count": 33,
   "id": "1adf1758",
   "metadata": {},
   "outputs": [],
   "source": [
    "one_hot_contract = pd.get_dummies(df_padronizado['Contract'], prefix='Contract_', dtype=int, drop_first=True)"
   ]
  },
  {
   "cell_type": "code",
   "execution_count": 34,
   "id": "ed7d57ce",
   "metadata": {},
   "outputs": [],
   "source": [
    "one_hot_payment = pd.get_dummies(df_padronizado['PaymentMethod'], prefix='Payment_Method_', dtype=int, drop_first=True)"
   ]
  },
  {
   "cell_type": "code",
   "execution_count": 35,
   "id": "0f76b21b",
   "metadata": {},
   "outputs": [],
   "source": [
    "# one_hot_contract"
   ]
  },
  {
   "cell_type": "code",
   "execution_count": 36,
   "id": "dec6d8e4",
   "metadata": {},
   "outputs": [],
   "source": [
    "# one_hot_contract"
   ]
  },
  {
   "cell_type": "code",
   "execution_count": 37,
   "id": "b03fe6a9",
   "metadata": {},
   "outputs": [],
   "source": [
    "df_padronizado = pd.concat([df_padronizado.drop(columns=['Contract', 'PaymentMethod']), one_hot_contract, one_hot_payment], axis=1)"
   ]
  },
  {
   "cell_type": "markdown",
   "id": "dacab01a",
   "metadata": {},
   "source": [
    "<h3>Análise descritiva (Load)</h3>"
   ]
  },
  {
   "cell_type": "code",
   "execution_count": 38,
   "id": "b7cc4218",
   "metadata": {},
   "outputs": [
    {
     "data": {
      "text/html": [
       "<div>\n",
       "<style scoped>\n",
       "    .dataframe tbody tr th:only-of-type {\n",
       "        vertical-align: middle;\n",
       "    }\n",
       "\n",
       "    .dataframe tbody tr th {\n",
       "        vertical-align: top;\n",
       "    }\n",
       "\n",
       "    .dataframe thead th {\n",
       "        text-align: right;\n",
       "    }\n",
       "</style>\n",
       "<table border=\"1\" class=\"dataframe\">\n",
       "  <thead>\n",
       "    <tr style=\"text-align: right;\">\n",
       "      <th></th>\n",
       "      <th>SeniorCitizen</th>\n",
       "      <th>tenure</th>\n",
       "      <th>Charges.Monthly</th>\n",
       "      <th>Charges.Total</th>\n",
       "      <th>Charges.Diary</th>\n",
       "    </tr>\n",
       "  </thead>\n",
       "  <tbody>\n",
       "    <tr>\n",
       "      <th>count</th>\n",
       "      <td>7032.000000</td>\n",
       "      <td>7032.000000</td>\n",
       "      <td>7032.000000</td>\n",
       "      <td>7032.000000</td>\n",
       "      <td>7032.000000</td>\n",
       "    </tr>\n",
       "    <tr>\n",
       "      <th>mean</th>\n",
       "      <td>0.162400</td>\n",
       "      <td>32.421786</td>\n",
       "      <td>64.798208</td>\n",
       "      <td>2283.300441</td>\n",
       "      <td>2.159891</td>\n",
       "    </tr>\n",
       "    <tr>\n",
       "      <th>std</th>\n",
       "      <td>0.368844</td>\n",
       "      <td>24.545260</td>\n",
       "      <td>30.085974</td>\n",
       "      <td>2266.771362</td>\n",
       "      <td>1.002955</td>\n",
       "    </tr>\n",
       "    <tr>\n",
       "      <th>min</th>\n",
       "      <td>0.000000</td>\n",
       "      <td>1.000000</td>\n",
       "      <td>18.250000</td>\n",
       "      <td>18.800000</td>\n",
       "      <td>0.610000</td>\n",
       "    </tr>\n",
       "    <tr>\n",
       "      <th>25%</th>\n",
       "      <td>0.000000</td>\n",
       "      <td>9.000000</td>\n",
       "      <td>35.587500</td>\n",
       "      <td>401.450000</td>\n",
       "      <td>1.187500</td>\n",
       "    </tr>\n",
       "    <tr>\n",
       "      <th>50%</th>\n",
       "      <td>0.000000</td>\n",
       "      <td>29.000000</td>\n",
       "      <td>70.350000</td>\n",
       "      <td>1397.475000</td>\n",
       "      <td>2.340000</td>\n",
       "    </tr>\n",
       "    <tr>\n",
       "      <th>75%</th>\n",
       "      <td>0.000000</td>\n",
       "      <td>55.000000</td>\n",
       "      <td>89.862500</td>\n",
       "      <td>3794.737500</td>\n",
       "      <td>2.992500</td>\n",
       "    </tr>\n",
       "    <tr>\n",
       "      <th>max</th>\n",
       "      <td>1.000000</td>\n",
       "      <td>72.000000</td>\n",
       "      <td>118.750000</td>\n",
       "      <td>8684.800000</td>\n",
       "      <td>3.960000</td>\n",
       "    </tr>\n",
       "  </tbody>\n",
       "</table>\n",
       "</div>"
      ],
      "text/plain": [
       "       SeniorCitizen       tenure  Charges.Monthly  Charges.Total  \\\n",
       "count    7032.000000  7032.000000      7032.000000    7032.000000   \n",
       "mean        0.162400    32.421786        64.798208    2283.300441   \n",
       "std         0.368844    24.545260        30.085974    2266.771362   \n",
       "min         0.000000     1.000000        18.250000      18.800000   \n",
       "25%         0.000000     9.000000        35.587500     401.450000   \n",
       "50%         0.000000    29.000000        70.350000    1397.475000   \n",
       "75%         0.000000    55.000000        89.862500    3794.737500   \n",
       "max         1.000000    72.000000       118.750000    8684.800000   \n",
       "\n",
       "       Charges.Diary  \n",
       "count    7032.000000  \n",
       "mean        2.159891  \n",
       "std         1.002955  \n",
       "min         0.610000  \n",
       "25%         1.187500  \n",
       "50%         2.340000  \n",
       "75%         2.992500  \n",
       "max         3.960000  "
      ]
     },
     "execution_count": 38,
     "metadata": {},
     "output_type": "execute_result"
    }
   ],
   "source": [
    "df_final.describe()"
   ]
  },
  {
   "cell_type": "code",
   "execution_count": 73,
   "id": "7df37188",
   "metadata": {},
   "outputs": [
    {
     "data": {
      "image/png": "[encoded data removed]",
      "text/plain": [
       "<Figure size 1200x500 with 2 Axes>"
      ]
     },
     "metadata": {},
     "output_type": "display_data"
    }
   ],
   "source": [
    "from utils.plot_utils import plot_categoria\n",
    "\n",
    "plot_categoria(df_final, 'Churn')"
   ]
  },
  {
   "cell_type": "code",
   "execution_count": null,
   "id": "63aeab70",
   "metadata": {},
   "outputs": [],
   "source": []
  }
 ],
 "metadata": {
  "kernelspec": {
   "display_name": "Python 3",
   "language": "python",
   "name": "python3"
  },
  "language_info": {
   "codemirror_mode": {
    "name": "ipython",
    "version": 3
   },
   "file_extension": ".py",
   "mimetype": "text/x-python",
   "name": "python",
   "nbconvert_exporter": "python",
   "pygments_lexer": "ipython3",
   "version": "3.12.10"
  }
 },
 "nbformat": 4,
 "nbformat_minor": 5
}
